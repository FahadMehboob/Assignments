{
 "cells": [
  {
   "cell_type": "code",
   "execution_count": 17,
   "metadata": {},
   "outputs": [
    {
     "name": "stdout",
     "output_type": "stream",
     "text": [
      "Enter Marks in English : 33\n",
      "Enter Marks in Maths: 33\n",
      "Enter Marks in Physics: 34\n",
      "Enter Marks in Chemistry: 35\n",
      "Enter Marks in Computer Science: 33\n",
      "Grade: E\n"
     ]
    }
   ],
   "source": [
    "a=float(input(\"Enter Marks in English : \"))\n",
    "b=float(input(\"Enter Marks in Maths: \"))\n",
    "c=float(input(\"Enter Marks in Physics: \"))\n",
    "d=float(input(\"Enter Marks in Chemistry: \"))\n",
    "e=float(input(\"Enter Marks in Computer Science: \"))\n",
    "avg=((a+b+c+d+e)/500)*100\n",
    "if (avg>=80 and avg<=100):\n",
    " print(\"Grade: A+\")\n",
    "elif(avg>=70 and avg<80):\n",
    " print(\"Grade: A\")\n",
    "elif(avg>=60 and avg<70):\n",
    " print(\"Grade: B\")\n",
    "elif(avg>=50 and avg<60):\n",
    " print(\"Grade: C\")\n",
    "elif(avg>=40 and avg<50):\n",
    " print(\"Grade: D\")\n",
    "elif(avg>=33 and avg<40):\n",
    " print(\"Grade: E\")\n",
    "else:\n",
    " print(\"Grade: F\")"
   ]
  },
  {
   "cell_type": "code",
   "execution_count": 19,
   "metadata": {},
   "outputs": [
    {
     "name": "stdout",
     "output_type": "stream",
     "text": [
      "Enter a number: 7\n",
      "Number is Odd\n"
     ]
    }
   ],
   "source": [
    "num = int(input(\"Enter a number: \"))\n",
    "if (num % 2) == 0:\n",
    "   print(\"Number is Even\")\n",
    "else:\n",
    "   print(\"Number is Odd\")"
   ]
  },
  {
   "cell_type": "code",
   "execution_count": 1,
   "metadata": {},
   "outputs": [
    {
     "name": "stdout",
     "output_type": "stream",
     "text": [
      "First list length :  3\n",
      "Second list length :  2\n"
     ]
    }
   ],
   "source": [
    "list1, list2 = [123, 'xyz', 'ali'], [456, 'abc']\n",
    "print (\"First list length : \", len(list1))\n",
    "print (\"Second list length : \", len(list2))"
   ]
  },
  {
   "cell_type": "code",
   "execution_count": 11,
   "metadata": {},
   "outputs": [
    {
     "name": "stdout",
     "output_type": "stream",
     "text": [
      "Sum of List :  10\n"
     ]
    }
   ],
   "source": [
    "list=[1,2,7]\n",
    "print (\"Sum of List : \" ,sum(list))"
   ]
  },
  {
   "cell_type": "code",
   "execution_count": 17,
   "metadata": {},
   "outputs": [
    {
     "name": "stdout",
     "output_type": "stream",
     "text": [
      "Sum of List :  900\n"
     ]
    }
   ],
   "source": [
    "list=[1,2,700,900,100,800]\n",
    "print (\"Sum of List : \" ,max(list))"
   ]
  },
  {
   "cell_type": "code",
   "execution_count": 18,
   "metadata": {},
   "outputs": [
    {
     "name": "stdout",
     "output_type": "stream",
     "text": [
      "1\n",
      "1\n",
      "2\n",
      "3\n"
     ]
    }
   ],
   "source": [
    "a= [1, 1, 2, 3, 5, 8, 13, 21, 34, 55, 89]\n",
    "\n",
    "for i in a:\n",
    "\n",
    "    if i < 5:\n",
    "\n",
    "        print(i)"
   ]
  },
  {
   "cell_type": "code",
   "execution_count": null,
   "metadata": {},
   "outputs": [],
   "source": []
  }
 ],
 "metadata": {
  "kernelspec": {
   "display_name": "Python 3",
   "language": "python",
   "name": "python3"
  },
  "language_info": {
   "codemirror_mode": {
    "name": "ipython",
    "version": 3
   },
   "file_extension": ".py",
   "mimetype": "text/x-python",
   "name": "python",
   "nbconvert_exporter": "python",
   "pygments_lexer": "ipython3",
   "version": "3.7.4"
  }
 },
 "nbformat": 4,
 "nbformat_minor": 2
}
