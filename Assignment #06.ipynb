{
 "cells": [
  {
   "cell_type": "code",
   "execution_count": 14,
   "metadata": {},
   "outputs": [
    {
     "name": "stdout",
     "output_type": "stream",
     "text": [
      "4 Starting\n",
      "Blue Braking\n",
      "4\n",
      "2018 I'm driving!\n",
      "Indus Silver\n"
     ]
    }
   ],
   "source": [
    "#Q1\n",
    "\n",
    "#Object Oriented Programming\n",
    "'''Object-oriented programming (OOP) is a programming language model in which programs are organized around data, or objects, rather than functions and logic. An object can be defined as a data field that has unique attributes and behavior. Examples of an object can range from physical entities, such as a human being.'''\n",
    "\n",
    "#Q2\n",
    "\n",
    "#Benefits Of OOP\n",
    "''' * It provides a clear modular structure for programs which makes it good for defining abstract datatypes in which implementation details are hidden.\n",
    "    * Objects can also be reused within an across applications. The reuse of software also lowers the cost of development. More effort is put into the object-oriented analysis and design, which lowers the overall cost of development.\n",
    "    * It makes software easier to maintain. Since the design is modular, part of the system can be updated in case of issues without a need to make large-scale changes\n",
    "    * Reuse also enables faster development. Object-oriented programming languages come with rich libraries of objects, and code developed during projects is also reusable in future projects.'''\n",
    "\n",
    "#Q3\n",
    "\n",
    "#Diff B/w Function And Object\n",
    "'''A function is a piece of code that is called by name. It can be passed data to operate on (i.e. the parameters) and can optionally return data (the return value). All data that is passed to a function is explicitly passed. A method is a piece of code that is called by a name that is associated with an object'''\n",
    "\n",
    "#Q4\n",
    "\n",
    "#Class :-\n",
    "'''A class is an entity that determines how an object will behave and what the object will contain. In other words, it is a blueprint or a set of instruction to build a specific type of object.'''\n",
    "#Object :-\n",
    "'''An object is nothing but a self-contained component which consists of methods and properties to make a particular type of data useful. Object determines the behavior of the class. When you send a message to an object, you are asking the object to invoke or execute one of its methods.'''\n",
    "#Attribute :-\n",
    "'''Attributes are data stored inside a class or instance and represent the state or quality of the class or instance.'''\n",
    "#Behaviour :-\n",
    "'''The behavior of an object is defined by its methods, which are the functions and subroutines defined within the object class. Without class methods, a class would simply be a structure. Methods determine what type of functionality a class has, how it modifies its data, and its overall behavior'''\n",
    "\n",
    "#Q5\n",
    "\n",
    "class Car:\n",
    "    color = []\n",
    "    \n",
    "    def __init__(self, color, doors, tires,company,model):\n",
    "        self.color = color\n",
    "        self.doors = doors\n",
    "        self.tires = tires\n",
    "        self.company = company\n",
    "        self.model = model\n",
    "        \n",
    "        \n",
    "    def brake(self):\n",
    "        return \"Braking\"\n",
    "\n",
    "    def drive(self):\n",
    "        return \"I'm driving!\"\n",
    "    \n",
    "    def start(self):\n",
    "        return \"Starting\"\n",
    "        \n",
    "        \n",
    "car1 = Car(\"Red\", 4, 4,\"Toyota\",2009)\n",
    "car2 = Car(\"Blue\", 4, 4,\"Hyundai\",2008)\n",
    "car3 = Car(\"White\", 4, 4,\"Toyota\",2010)\n",
    "car4 = Car(\"Black\", 4, 4,\"Honda\",2018)\n",
    "car5 = Car(\"Silver\", 4, 4,\"Indus\",2017)\n",
    "        \n",
    "\n",
    "print(car1.doors,car1.start())\n",
    "print(car2.color,car2.brake())\n",
    "print(car3.tires)\n",
    "print(car4.model,car4.drive())\n",
    "print(car5.company,car5.color)"
   ]
  },
  {
   "cell_type": "code",
   "execution_count": null,
   "metadata": {},
   "outputs": [],
   "source": []
  },
  {
   "cell_type": "code",
   "execution_count": null,
   "metadata": {},
   "outputs": [],
   "source": []
  }
 ],
 "metadata": {
  "kernelspec": {
   "display_name": "Python 3",
   "language": "python",
   "name": "python3"
  },
  "language_info": {
   "codemirror_mode": {
    "name": "ipython",
    "version": 3
   },
   "file_extension": ".py",
   "mimetype": "text/x-python",
   "name": "python",
   "nbconvert_exporter": "python",
   "pygments_lexer": "ipython3",
   "version": "3.7.4"
  }
 },
 "nbformat": 4,
 "nbformat_minor": 2
}
