{
 "cells": [
  {
   "cell_type": "code",
   "execution_count": 1,
   "metadata": {},
   "outputs": [
    {
     "name": "stdout",
     "output_type": "stream",
     "text": [
      "first_name Abdul Rafay\n",
      "last_name Mujeeb Ahmed\n",
      "age 22\n",
      "city karachi\n",
      "qualification Bcom\n",
      "first_name Abdul Rafay\n",
      "last_name Mujeeb Ahmed\n",
      "age 22\n",
      "city karachi\n",
      "qualification Mcom\n",
      "first_name Abdul Rafay\n",
      "last_name Mujeeb Ahmed\n",
      "age 22\n",
      "city karachi\n"
     ]
    }
   ],
   "source": [
    "person_i_knw={\n",
    "    \"first_name\" : \"Abdul Rafay\",\n",
    "    \"last_name\" : \"Mujeeb Ahmed\",\n",
    "    \"age\" : 22,\n",
    "    \"city\" : \"karachi\",\n",
    "}\n",
    "person_i_knw[\"qualification\"]=\"Bcom\"\n",
    "\n",
    "\n",
    "for i,j in person_i_knw.items():\n",
    "    print(i,j)\n",
    "    \n",
    "person_i_knw[\"qualification\"]=\"Mcom\"\n",
    "\n",
    "for i,j in person_i_knw.items():\n",
    "    print(i,j)\n",
    "    \n",
    "del person_i_knw[\"qualification\"]\n",
    "\n",
    "for i,j in person_i_knw.items():\n",
    "    print(i,j)"
   ]
  },
  {
   "cell_type": "code",
   "execution_count": 2,
   "metadata": {},
   "outputs": [
    {
     "name": "stdout",
     "output_type": "stream",
     "text": [
      "\n",
      "karachi is in pakistan\n",
      "  It has a population of about 14.91 million\n",
      "  The city of lights\n",
      "\n",
      "lahore is in pakistan\n",
      "  It has a population of about 11.13 million\n",
      "  The sufi's city\n",
      "\n",
      "islamabad is in pakistan\n",
      "  It has a population of about 1.015 million\n",
      "  The parliament\n"
     ]
    }
   ],
   "source": [
    "cities = {\n",
    "    'karachi': {\n",
    "        'country': 'pakistan',\n",
    "        'population': \"14.91 million\",\n",
    "        'fact': 'city of lights',\n",
    "        },\n",
    "    'lahore': {\n",
    "        'country': 'pakistan',\n",
    "        'population': \"11.13 million\",\n",
    "        'fact': \"sufi's city\" ,\n",
    "        },\n",
    "    'islamabad': {\n",
    "        'country': 'pakistan',\n",
    "        'population': \"1.015 million\",\n",
    "        'fact': 'parliament',\n",
    "        }\n",
    "    }\n",
    "\n",
    "for city, city_info in cities.items():\n",
    "    country = city_info['country']\n",
    "    population = city_info['population']\n",
    "    fact = city_info['fact']\n",
    "\n",
    "    print(\"\\n\"+city + \" is in \" + country)\n",
    "    print(\"  It has a population of about \" + population)\n",
    "    print(\"  The \" + fact)"
   ]
  },
  {
   "cell_type": "code",
   "execution_count": 3,
   "metadata": {},
   "outputs": [
    {
     "name": "stdout",
     "output_type": "stream",
     "text": [
      "How old are you?2\n",
      "  You get in free!\n",
      "How old are you?10\n",
      "  Your ticket is $10.\n",
      "How old are you?19\n",
      "  Your ticket is $15.\n",
      "How old are you?0\n"
     ]
    }
   ],
   "source": [
    "while True :\n",
    "    age = int(input(\"How old are you?\"))\n",
    "    if age == 0 :\n",
    "        break\n",
    "    elif age < 3 :\n",
    "        print(\"  You get in free!\")\n",
    "    elif age < 13:\n",
    "        print(\"  Your ticket is $10.\")\n",
    "    else:\n",
    "        print(\"  Your ticket is $15.\")"
   ]
  },
  {
   "cell_type": "code",
   "execution_count": 4,
   "metadata": {},
   "outputs": [
    {
     "name": "stdout",
     "output_type": "stream",
     "text": [
      "Alice in wonderland is one of my favorite books.\n"
     ]
    }
   ],
   "source": [
    "def favorite_book(title):\n",
    "    print(title + \" is one of my favorite books.\")\n",
    "\n",
    "favorite_book('Alice in wonderland')"
   ]
  },
  {
   "cell_type": "code",
   "execution_count": 5,
   "metadata": {},
   "outputs": [
    {
     "name": "stdout",
     "output_type": "stream",
     "text": [
      "if you guess in 3 times you won\n",
      "Guess a number between 1 and 30\n",
      "1\n",
      "Try Higher\n",
      "Guess a number between 1 and 30\n",
      "10\n",
      "Try Higher\n",
      "Guess a number between 1 and 30\n",
      "20\n",
      "Try Lower\n",
      "You Lossed\n"
     ]
    }
   ],
   "source": [
    "import random\n",
    "num = random.randint(1, 30)\n",
    "count=0\n",
    "print('if you guess in 3 times you won')\n",
    "while True:\n",
    "    print('Guess a number between 1 and 30')\n",
    "    i = int(input())\n",
    "    if i == num:\n",
    "        print('You won!!!')\n",
    "        break\n",
    "    elif i < num:\n",
    "        count += 1\n",
    "        print('Try Higher')\n",
    "                \n",
    "    elif i > num:\n",
    "        count += 1\n",
    "        print('Try Lower')\n",
    "    if count == 3 :\n",
    "        print(\"You Lossed\")\n",
    "        break"
   ]
  },
  {
   "cell_type": "code",
   "execution_count": null,
   "metadata": {},
   "outputs": [],
   "source": []
  }
 ],
 "metadata": {
  "kernelspec": {
   "display_name": "Python 3",
   "language": "python",
   "name": "python3"
  },
  "language_info": {
   "codemirror_mode": {
    "name": "ipython",
    "version": 3
   },
   "file_extension": ".py",
   "mimetype": "text/x-python",
   "name": "python",
   "nbconvert_exporter": "python",
   "pygments_lexer": "ipython3",
   "version": "3.7.4"
  }
 },
 "nbformat": 4,
 "nbformat_minor": 2
}
