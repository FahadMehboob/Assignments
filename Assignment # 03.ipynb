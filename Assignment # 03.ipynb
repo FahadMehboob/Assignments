{
 "cells": [
  {
   "cell_type": "code",
   "execution_count": 16,
   "metadata": {},
   "outputs": [
    {
     "name": "stdout",
     "output_type": "stream",
     "text": [
      "Enter First Value 5\n",
      "Enter Second Value 7\n",
      "Enter Operator +\n",
      "Answer= 12\n"
     ]
    }
   ],
   "source": [
    "num1=int(input(\"Enter First Value \")) \n",
    "num2=int(input(\"Enter Second Value \"))\n",
    "operator=input(\"Enter Operator \")\n",
    "\n",
    "if (operator=='+') :\n",
    "    \n",
    "    num = num1 + num2\n",
    "    print('Answer=',num)\n",
    "    \n",
    "elif(operator=='-') :\n",
    "    \n",
    "    num = num1 - num2\n",
    "    print('Answer=',num)\n",
    "    \n",
    "elif(operator=='*') :\n",
    "    \n",
    "    num = num1 * num2\n",
    "    print('Answer=',num)\n",
    "    \n",
    "elif(operator=='/') :\n",
    "    \n",
    "    num = num1 / num2\n",
    "    print('Answer=',num)\n",
    "    \n",
    "elif(operator=='^') :\n",
    "    \n",
    "    num = num1 ** num2\n",
    "    print('Answer=',num)\n",
    "    \n",
    "else :\n",
    "    \n",
    "     print(\"You Enter Wrong Opertator\")\n",
    " \n"
   ]
  },
  {
   "cell_type": "code",
   "execution_count": 101,
   "metadata": {},
   "outputs": [
    {
     "name": "stdout",
     "output_type": "stream",
     "text": [
      "Enter Number for search 25\n",
      "No,Number not present in list apple\n",
      "Yes,Number present in list 25\n"
     ]
    }
   ],
   "source": [
    "arr = [\"apple\", 25 , \"ali\",55]\n",
    "b= int(input(\"Enter Number for search \"))\n",
    "for x in arr :\n",
    "    if x == b :\n",
    "        print(\"Yes,Number present in list\",x)\n",
    "        break \n",
    "    \n",
    "    else :\n",
    "         print(\"No,Number not present in list\",x)\n",
    "    continue"
   ]
  },
  {
   "cell_type": "code",
   "execution_count": 102,
   "metadata": {},
   "outputs": [
    {
     "name": "stdout",
     "output_type": "stream",
     "text": [
      "{'brand': 'Ford', 'model': 'Mustang', 'year': 1964, 'color': 'red'}\n"
     ]
    }
   ],
   "source": [
    "dict1 = {\n",
    "  \"brand\": \"Ford\",\n",
    "  \"model\": \"Mustang\",\n",
    "  \"year\": 1964\n",
    "}\n",
    "dict1[\"color\"] = \"red\"\n",
    "print(dict1)"
   ]
  },
  {
   "cell_type": "code",
   "execution_count": 108,
   "metadata": {},
   "outputs": [
    {
     "name": "stdout",
     "output_type": "stream",
     "text": [
      "Answer = 62\n"
     ]
    }
   ],
   "source": [
    "dict1 = {\n",
    "    'num1': 1,\n",
    "    'num2': 14,\n",
    "    'num3': 47\n",
    "}\n",
    "print(\"Answer =\", sum(dict1.values()))"
   ]
  },
  {
   "cell_type": "code",
   "execution_count": 111,
   "metadata": {},
   "outputs": [
    {
     "data": {
      "text/plain": [
       "{1, 4, 5}"
      ]
     },
     "execution_count": 111,
     "metadata": {},
     "output_type": "execute_result"
    }
   ],
   "source": [
    "l = [1,2,3,4,4,5,5,6,1]\n",
    "set([x for x in l if l.count(x) > 1])"
   ]
  },
  {
   "cell_type": "code",
   "execution_count": 119,
   "metadata": {},
   "outputs": [
    {
     "name": "stdout",
     "output_type": "stream",
     "text": [
      "Enter Key For Search num3\n",
      "Key Not Exist! num1\n",
      "Key Not Exist! num2\n",
      "Key Exist! num3\n"
     ]
    }
   ],
   "source": [
    "dict1 = {\n",
    "    'num1': 1,\n",
    "    'num2': 14,\n",
    "    'num3': 47\n",
    "}\n",
    "a = input(\"Enter Key For Search \")\n",
    "for x in dict1 :\n",
    "    if x == a :\n",
    "        print(\"Key Exist!\",x)\n",
    "    else :\n",
    "        print(\"Key Not Exist!\",x)\n",
    "    continue"
   ]
  },
  {
   "cell_type": "code",
   "execution_count": null,
   "metadata": {},
   "outputs": [],
   "source": []
  }
 ],
 "metadata": {
  "kernelspec": {
   "display_name": "Python 3",
   "language": "python",
   "name": "python3"
  },
  "language_info": {
   "codemirror_mode": {
    "name": "ipython",
    "version": 3
   },
   "file_extension": ".py",
   "mimetype": "text/x-python",
   "name": "python",
   "nbconvert_exporter": "python",
   "pygments_lexer": "ipython3",
   "version": "3.7.4"
  }
 },
 "nbformat": 4,
 "nbformat_minor": 2
}
